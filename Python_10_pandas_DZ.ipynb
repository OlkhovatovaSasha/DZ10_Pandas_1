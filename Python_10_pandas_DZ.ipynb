{
 "cells": [
  {
   "cell_type": "markdown",
   "metadata": {},
   "source": [
    "## Задание 1 \n",
    "Скачайте с сайта https://grouplens.org/datasets/movielens/ датасет любого размера. \n",
    "\n",
    "Определите какому фильму было выставлено больше всего оценок 5.0."
   ]
  },
  {
   "cell_type": "code",
   "execution_count": 1,
   "metadata": {},
   "outputs": [],
   "source": [
    "import pandas as pd"
   ]
  },
  {
   "cell_type": "code",
   "execution_count": 124,
   "metadata": {},
   "outputs": [
    {
     "data": {
      "text/html": [
       "<div>\n",
       "<style scoped>\n",
       "    .dataframe tbody tr th:only-of-type {\n",
       "        vertical-align: middle;\n",
       "    }\n",
       "\n",
       "    .dataframe tbody tr th {\n",
       "        vertical-align: top;\n",
       "    }\n",
       "\n",
       "    .dataframe thead th {\n",
       "        text-align: right;\n",
       "    }\n",
       "</style>\n",
       "<table border=\"1\" class=\"dataframe\">\n",
       "  <thead>\n",
       "    <tr style=\"text-align: right;\">\n",
       "      <th></th>\n",
       "      <th>userId</th>\n",
       "      <th>rating</th>\n",
       "      <th>timestamp</th>\n",
       "    </tr>\n",
       "    <tr>\n",
       "      <th>movieId</th>\n",
       "      <th></th>\n",
       "      <th></th>\n",
       "      <th></th>\n",
       "    </tr>\n",
       "  </thead>\n",
       "  <tbody>\n",
       "    <tr>\n",
       "      <td>318</td>\n",
       "      <td>153</td>\n",
       "      <td>153</td>\n",
       "      <td>153</td>\n",
       "    </tr>\n",
       "  </tbody>\n",
       "</table>\n",
       "</div>"
      ],
      "text/plain": [
       "         userId  rating  timestamp\n",
       "movieId                           \n",
       "318         153     153        153"
      ]
     },
     "execution_count": 124,
     "metadata": {},
     "output_type": "execute_result"
    }
   ],
   "source": [
    "ratings_1 = pd.read_csv('ratings.csv')\n",
    "ratings_1.query('rating == 5').groupby('movieId').count().sort_values('rating', ascending = False).head(1)\n",
    "#хотела выцепить значение movieId (318), что-то не вышло говорит столбца movieId нет подставила ниже вручную. \n",
    "# 1) Можно ли так сделать? 2) Требует ли это задача?"
   ]
  },
  {
   "cell_type": "code",
   "execution_count": 123,
   "metadata": {},
   "outputs": [
    {
     "data": {
      "text/plain": [
       "277    Shawshank Redemption, The (1994)\n",
       "Name: title, dtype: object"
      ]
     },
     "execution_count": 123,
     "metadata": {},
     "output_type": "execute_result"
    }
   ],
   "source": [
    "ratings_2 = pd.read_csv('movies.csv')\n",
    "ratings_2.query('movieId == 318').title"
   ]
  },
  {
   "cell_type": "markdown",
   "metadata": {},
   "source": [
    "## Задание 2 \n",
    "По данным файла power.csv посчитайте суммарное потребление стран Прибалтики (Латвия, Литва и Эстония) \n",
    "\n",
    "категорий 4, 12 и 21 за период с 2005 по 2010 года. Не учитывайте в расчетах отрицательные значения quantity."
   ]
  },
  {
   "cell_type": "code",
   "execution_count": 127,
   "metadata": {},
   "outputs": [],
   "source": [
    "ratings = pd.read_csv('power.csv')"
   ]
  },
  {
   "cell_type": "code",
   "execution_count": 128,
   "metadata": {},
   "outputs": [
    {
     "data": {
      "text/plain": [
       "array(['Austria', 'Czechia', 'Romania', 'Serbia', 'Slovakia', 'Bulgaria',\n",
       "       'Croatia', 'Lithuania', 'Other Asia', 'T.F.Yug.Rep. Macedonia',\n",
       "       'Colombia', 'Australia', 'Ethiopia', 'Serbia and Montenegro',\n",
       "       'Tunisia', 'Georgia', 'Latvia', 'Armenia', 'Russian Federation',\n",
       "       'Bolivia (Plur. State of)', 'Estonia', 'Ethiopia, incl. Eritrea',\n",
       "       'French Guiana', 'Indonesia', 'Liberia', 'Malaysia', 'Mauritania',\n",
       "       'Namibia', 'New Caledonia', 'Slovenia', 'United Rep. of Tanzania',\n",
       "       'Yugoslavia, SFR (former)', 'Zambia', 'Algeria',\n",
       "       'French Polynesia', 'Syrian Arab Republic', 'India', 'Nigeria',\n",
       "       'Somalia', 'Albania', 'Bosnia and Herzegovina',\n",
       "       'Czechoslovakia (former)', 'Equatorial Guinea', 'Saudi Arabia',\n",
       "       'St. Lucia', 'Mongolia', 'Cambodia', 'Gambia',\n",
       "       'Micronesia (Fed. States of)', 'Northern Mariana Islands'],\n",
       "      dtype=object)"
      ]
     },
     "execution_count": 128,
     "metadata": {},
     "output_type": "execute_result"
    }
   ],
   "source": [
    "ratings[ ratings['country'].str.contains('ia', case=False) ]['country'].unique()"
   ]
  },
  {
   "cell_type": "code",
   "execution_count": 187,
   "metadata": {},
   "outputs": [
    {
     "data": {
      "text/plain": [
       "240580.0"
      ]
     },
     "execution_count": 187,
     "metadata": {},
     "output_type": "execute_result"
    }
   ],
   "source": [
    "sort_quantity = ratings.query('quantity >= 0 & (category == 4 | category == 12 | category == 21) & \\\n",
    "(year >= 2005 & year <= 2010) & (country == \"Lithuania\" | country == \"Estonia\" | country == \"Latvia\")')\n",
    "\n",
    "sort_quantity.quantity.sum()"
   ]
  },
  {
   "cell_type": "markdown",
   "metadata": {},
   "source": [
    "## Задание 3 \n",
    "Выберите страницу любого сайта с табличными данными. Импортируйте таблицы в pandas dataframe. \n",
    "\n",
    "Примеры страниц (необязательно брать именно эти): https://fortrader.org/quotes https://www.finanz.ru/valyuty/v-realnom-vremeni"
   ]
  },
  {
   "cell_type": "code",
   "execution_count": 37,
   "metadata": {},
   "outputs": [
    {
     "data": {
      "text/plain": [
       "[                           Название     Цена  Изменение  Изменение(%)  \\\n",
       " 0  EURRUB Курс евро к рублю сегодня  80.0977    -0.4714       -0.5851   \n",
       " 1       USDRUB Курс рубля к доллару  73.4195    -0.7654       -1.0317   \n",
       " \n",
       "    Обновлено  \n",
       " 0        NaN  \n",
       " 1        NaN  ,\n",
       "                            Название    Цена  Изменение  Изменение(%)  \\\n",
       " 0  Нефть (BRENT) Курс нефти сегодня  23.170      0.170         0.740   \n",
       " 1   Нефть (WTI) Цены на нефть (WTI)  13.180      0.920         7.500   \n",
       " 2          Сахар котировки на сахар  12.630      3.430        37.280   \n",
       " 3                   Газ Цена на газ   1.794     -0.076        -4.064   \n",
       " \n",
       "    Обновлено  \n",
       " 0        NaN  \n",
       " 1        NaN  \n",
       " 2        NaN  \n",
       " 3        NaN  ,\n",
       "                       Название      Цена   Изменение Изменение(%)  Обновлено\n",
       " 0      Серебро Цена на серебро    15.134  нет данных   нет данных        NaN\n",
       " 1    Палладий Цена на Палладий  1886.250  нет данных   нет данных        NaN\n",
       " 2  Золото Цена золота на бирже  1723.500        +3.0         +0.2        NaN\n",
       " 3      Платина Цены на платину   792.300  нет данных   нет данных        NaN\n",
       " 4      Медь Цена меди на бирже     2.339     -0.0015      -0.0641        NaN,\n",
       "                                         Название          Цена   Изменение  \\\n",
       " 0                                  ВТБ Акции ВТБ       0.03452   +0.000600   \n",
       " 1                         Газпром Акции газпрома     188.15000       +1.26   \n",
       " 2                            Лукойл Акции Лукойл    4741.00000       +65.5   \n",
       " 3                        Роснефть Акции Роснефти     324.55000       +1.05   \n",
       " 4                       Сбербанк Акции Сбербанка     193.05000       +3.63   \n",
       " 5           Сургутнефтегаз Акции Сургутнефтегаза      36.67500      +1.585   \n",
       " 6                      Норникель Акции Норникель   20004.00000        -136   \n",
       " 7                       Аэрофлот Акции Аерофлота      75.32000       +0.94   \n",
       " 8                    Северсталь Акции Северсталь     871.80000  нет данных   \n",
       " 9                    Транснефть Акции Транснефть  135050.00000      +1 000   \n",
       " 10             Ростелеком Курс акций ростелекома      81.85000       +2.77   \n",
       " 11                    Алроса Акции АЛРОСА (ALRS)      64.08000      +2.020   \n",
       " 12                      РУСАЛ Акции РУСАЛ (RUAL)      26.15000      +0.100   \n",
       " 13                        НМЛК Акции НЛМК (NLMK)     125.44000      +1.740   \n",
       " 14                    Магнит Акции Магнит (MGNT)    3392.00000       +41.5   \n",
       " 15                  М.видео Акции М.видео (MVID)     362.00000       +1.40   \n",
       " 16    Газпром нефть Акции \"Газпром нефть\" (SIBN)     321.95000       +5.95   \n",
       " 17                        НМТП Акции НМТП (NMTP)       8.58000     -0.0200   \n",
       " 18            Полиметалл Акции Полиметалл (POLY)    1415.10000     -152.90   \n",
       " 19        Полюс Золото Акции Полюс Золото (PLZL)   11916.50000      -164.5   \n",
       " 20                  НОВАТЭК Акции НОВАТЭК (NVTK)    1021.80000      +27.80   \n",
       " 21                РусГидро Акции РусГидро (HYDR)       0.62650     +0.0063   \n",
       " 22                Татнефть Акции Татнефть (TATN)     529.00000       +9.00   \n",
       " 23        АФК Система Акции АФК \"Система\" (AFKS)      13.88100      -0.029   \n",
       " 24                                 МТС Акции МТС     314.00000       +3.15   \n",
       " 25                Башнефть Акции Башнефть (BANE)    1737.00000       +18.5   \n",
       " 26                    Яндекс Акции Яндекс (YNDX)    2754.80000       +39.8   \n",
       " 27  X5 Retail Group Акции X5 Retail Group (FIVE)    2169.50000      -14.50   \n",
       " 28                                 ПАО «ФСК ЕЭС»       0.18122    +0.00120   \n",
       " 29                      Мечел Акции Мечел (MTLR)      67.23000       -0.15   \n",
       " 30                              Московская биржа     125.32000       +4.81   \n",
       " \n",
       "    Изменение(%)  Обновлено  \n",
       " 0     +1.768868        NaN  \n",
       " 1         +0.67        NaN  \n",
       " 2          +1.4        NaN  \n",
       " 3         +0.32        NaN  \n",
       " 4         +1.92        NaN  \n",
       " 5        +4.517        NaN  \n",
       " 6            -1        NaN  \n",
       " 7         +1.26        NaN  \n",
       " 8    нет данных        NaN  \n",
       " 9            +1        NaN  \n",
       " 10        +3.50        NaN  \n",
       " 11       +3.255        NaN  \n",
       " 12       +0.384        NaN  \n",
       " 13       +1.407        NaN  \n",
       " 14         +1.2        NaN  \n",
       " 15        +0.39        NaN  \n",
       " 16        +1.88        NaN  \n",
       " 17      -0.2326        NaN  \n",
       " 18        -9.75        NaN  \n",
       " 19         -1.4        NaN  \n",
       " 20        +2.80        NaN  \n",
       " 21      +1.0158        NaN  \n",
       " 22        +1.73        NaN  \n",
       " 23       -0.208        NaN  \n",
       " 24        +1.01        NaN  \n",
       " 25         +1.1        NaN  \n",
       " 26         +1.5        NaN  \n",
       " 27        -0.66        NaN  \n",
       " 28     +0.66659        NaN  \n",
       " 29        -0.22        NaN  \n",
       " 30        +3.99        NaN  ,\n",
       "                                              Название    Цена   Изменение  \\\n",
       " 0                           Microsoft Microsoft Corp.  169.63       -4.42   \n",
       " 1                                   APPLE Акции APPLE  278.44       -4.73   \n",
       " 2                       Макдональдс Акции Макдональдс  186.01       +0.12   \n",
       " 3                                 Toyota Акции Тойоты  120.94  нет данных   \n",
       " 4                    Volkswagen Курс акций Volkswagen  126.56       +4.06   \n",
       " 5                                Yandex Акции яндекса   37.53       +0.57   \n",
       " 6   Boeing Company (The) Common Sto Boeing Company...  130.60       +1.92   \n",
       " 7   Coca-Cola Company (The) Common Coca-Cola Compa...   46.80       +0.02   \n",
       " 8                        Facebook Цена акций Facebook  182.53       -4.97   \n",
       " 9                           Tesla Цены на акции Тесла  763.27      -35.48   \n",
       " 10                          Twiter Цена акций твитера   28.92       -1.08   \n",
       " 11                  Hasbro Цена на акции Hasbro, Inc.   77.86  нет данных   \n",
       " 12                                             Сименс   85.07       +3.67   \n",
       " \n",
       "    Изменение(%)  Обновлено  \n",
       " 0         -2.54        NaN  \n",
       " 1         -1.67        NaN  \n",
       " 2         +0.06        NaN  \n",
       " 3    нет данных        NaN  \n",
       " 4         +3.31        NaN  \n",
       " 5         +1.54        NaN  \n",
       " 6         +1.49        NaN  \n",
       " 7         +0.04        NaN  \n",
       " 8         -2.65        NaN  \n",
       " 9         -4.44        NaN  \n",
       " 10        -3.60        NaN  \n",
       " 11   нет данных        NaN  \n",
       " 12        +4.51        NaN  ,\n",
       "                                             Название       Цена  Изменение  \\\n",
       " 0                         EURUSD Курс евро к доллару    1.08211   -0.00033   \n",
       " 1         AUDCAD Australian Dollar / Canadian Dollar    0.90816    0.00290   \n",
       " 2   AUDUSD Курс австралийского доллара к доллару сша    0.64871    0.00377   \n",
       " 3                        GBPUSD Курс фунта к доллару    1.24210   -0.00001   \n",
       " 4                          EURCHF Euro / Swiss Franc    1.05465   -0.00163   \n",
       " 5                  EURGBP Euro / Great Britain Pound    0.87075   -0.00060   \n",
       " 6                         EURJPY Euro / Japanese Yen  115.65100   -0.49300   \n",
       " 7          GBPJPY Great Britain Pound / Japanese Yen  132.74500   -0.52700   \n",
       " 8              NZDUSD New Zealand Dollar / US Dollar    0.60510    0.00271   \n",
       " 9       USDCAD Курс канадского доллара к доллару сша    1.40015   -0.00350   \n",
       " 10                        USDJPY Курс йены к доллару  106.85700   -0.43900   \n",
       " 11                    USDCHF US Dollar / Swiss Franc    0.97438   -0.00145   \n",
       " 12         USDCNH Курс китайского юаня к доллару США    7.08216   -0.00654   \n",
       " \n",
       "     Изменение(%)  Обновлено  \n",
       " 0       -0.03049        NaN  \n",
       " 1        0.32035        NaN  \n",
       " 2        0.58455        NaN  \n",
       " 3       -0.00081        NaN  \n",
       " 4       -0.15432        NaN  \n",
       " 5       -0.06886        NaN  \n",
       " 6       -0.42400        NaN  \n",
       " 7       -0.39500        NaN  \n",
       " 8        0.44987        NaN  \n",
       " 9       -0.24935        NaN  \n",
       " 10      -0.40900        NaN  \n",
       " 11      -0.14859        NaN  \n",
       " 12      -0.09226        NaN  ,\n",
       "                                              Название           Цена  \\\n",
       " 0                                           Dash Dash      81.795000   \n",
       " 1                                       Ripple Ripple       0.212160   \n",
       " 2                               Bitcoin Курс биткоина    7728.960000   \n",
       " 3          Litecoin Курс лайткоин к доллару (LTC/USD)      44.691000   \n",
       " 4   BitcoinCash Курс Биткоин кеш к доллару США (BC...     238.700000   \n",
       " 5                                   Ethereum Ethereum     196.219000   \n",
       " 6                                   EmerCoin EmerCoin            NaN   \n",
       " 7                                   NameCoin NameCoin            NaN   \n",
       " 8                                   PeerCoin PeerCoin            NaN   \n",
       " 9                             BTCRUB биткоин в рублях  247059.000000   \n",
       " 10                              BTCEUR биткоин в евро    7144.850000   \n",
       " 11                                        Zcash (ZEC)      44.073000   \n",
       " 12                                          NEO (NEO)       8.395000   \n",
       " 13                                          EOS (EOS)       2.727700   \n",
       " 14                                         TRON (TRX)       0.015168   \n",
       " 15                                             Monero      61.947000   \n",
       " 16                                            Cardano       0.045849   \n",
       " 17                                               IOTA       0.171870   \n",
       " 18                       ETC/USD эфириум классик, ETC       6.050100   \n",
       " \n",
       "      Изменение Изменение(%)  Обновлено  \n",
       " 0       -0.969       -1.171        NaN  \n",
       " 1     +0.01453     +7.35212        NaN  \n",
       " 2       -55.97        -0.72        NaN  \n",
       " 3       +0.227       +0.511        NaN  \n",
       " 4       -3.250       -1.343        NaN  \n",
       " 5       +0.599       +0.306        NaN  \n",
       " 6   нет данных   нет данных        NaN  \n",
       " 7   нет данных   нет данных        NaN  \n",
       " 8   нет данных   нет данных        NaN  \n",
       " 9   нет данных   нет данных        NaN  \n",
       " 10  нет данных   нет данных        NaN  \n",
       " 11      -0.417       -0.937        NaN  \n",
       " 12      -0.030       -0.358        NaN  \n",
       " 13     -0.0154      -0.5614        NaN  \n",
       " 14   +0.000662    +4.563629        NaN  \n",
       " 15      -0.368       -0.591        NaN  \n",
       " 16   -0.000030    -0.065389        NaN  \n",
       " 17    -0.00251     -1.43939        NaN  \n",
       " 18     -0.0603      -0.9868        NaN  ,\n",
       "                                    Название       Цена   Изменение  \\\n",
       " 0   Фьючерс РТС Курс фьючерса на индекс РТС  118130.00    +117 046   \n",
       " 1                      РТС Курс индекса РТС    1109.60      +25.92   \n",
       " 2                                     DAX30   11541.90        0.00   \n",
       " 3                       Индекс Dow 30 (DJI)   23993.00        -141   \n",
       " 4                                      FTSE    7137.70    +1 290.9   \n",
       " 5                                    CAC 40    4509.50  нет данных   \n",
       " 6                                Nasdaq 100    8696.21  нет данных   \n",
       " 7                              Russell 2000    1297.60       +15.7   \n",
       " 8                                   S&P 500    2859.78   +2 774.21   \n",
       " 9                                   IBEX 35    6809.50       +73.7   \n",
       " 10                               Nikkei 225   19995.00  нет данных   \n",
       " 11                            Euro Stoxx 50    2895.70  нет данных   \n",
       " 12                              S&P/ASX 200    5326.40  нет данных   \n",
       " 13                                      MIB   17540.00  нет данных   \n",
       " \n",
       "    Изменение(%)  Обновлено  \n",
       " 0       +10 801        NaN  \n",
       " 1         +2.39        NaN  \n",
       " 2          0.00        NaN  \n",
       " 3            -1        NaN  \n",
       " 4         +22.1        NaN  \n",
       " 5    нет данных        NaN  \n",
       " 6    нет данных        NaN  \n",
       " 7          +1.2        NaN  \n",
       " 8     +3 242.04        NaN  \n",
       " 9          +1.1        NaN  \n",
       " 10   нет данных        NaN  \n",
       " 11   нет данных        NaN  \n",
       " 12   нет данных        NaN  \n",
       " 13   нет данных        NaN  ]"
      ]
     },
     "execution_count": 37,
     "metadata": {},
     "output_type": "execute_result"
    }
   ],
   "source": [
    "df = pd.read_html('https://fortrader.org/quotes')\n",
    "\n",
    "n = len(pd.read_html('https://fortrader.org/quotes'))\n",
    "\n",
    "df[:n]"
   ]
  },
  {
   "cell_type": "code",
   "execution_count": null,
   "metadata": {},
   "outputs": [],
   "source": []
  }
 ],
 "metadata": {
  "kernelspec": {
   "display_name": "Python 3",
   "language": "python",
   "name": "python3"
  },
  "language_info": {
   "codemirror_mode": {
    "name": "ipython",
    "version": 3
   },
   "file_extension": ".py",
   "mimetype": "text/x-python",
   "name": "python",
   "nbconvert_exporter": "python",
   "pygments_lexer": "ipython3",
   "version": "3.7.4"
  }
 },
 "nbformat": 4,
 "nbformat_minor": 2
}
